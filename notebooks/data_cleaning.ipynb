{
 "cells": [
  {
   "cell_type": "code",
   "execution_count": 1,
   "metadata": {
    "id": "P-qNbwE5rzTg"
   },
   "outputs": [],
   "source": [
    "import re\n",
    "from tika import parser\n",
    "import pandas as pd\n",
    "import matplotlib.pyplot as plt\n",
    "import seaborn as sns"
   ]
  },
  {
   "cell_type": "markdown",
   "metadata": {},
   "source": [
    "#### Data Cleaning and Preparation\n",
    "In this project, due to time limitation, only use the screenplay of The Dark Knight (downloaded from https://thescriptlab.com) as an example, it has a total of 389 scenes. Real world projects should include much more movies.\n",
    "\n",
    "This step is to sparse the screenplay pdf file and extract key information by leveraging the structure of a standard screenpaly. \n",
    "The output includes the following attributes:\n",
    "- scene_id: the id of scene (based on the sequence of the screenplay)\n",
    "- category: either INT or EXT\n",
    "- location: the location of scene (parsed from the title of scene)\n",
    "- time_of_day: the time of scene (parsed from the title of scene)\n",
    "- num_characters: number of characters that has dialog in the scene\n",
    "- characters: list of names of characters that has dialog in the scene (capitalized and centered on the screenplay)\n",
    "- text: full text of the scene\n",
    "\n",
    "Note: the num_characters and charaters are not the all the actors present in the scene. Need a model to understand the context to get the exact number of actors presence, but this information can still be used as reference or validation."
   ]
  },
  {
   "cell_type": "code",
   "execution_count": 2,
   "metadata": {
    "id": "WH5-2WimsZuk"
   },
   "outputs": [],
   "source": [
    "screenplay = parser.from_file('dataset/The Dark Knight.pdf')\n",
    "screenplay_text = screenplay['content']"
   ]
  },
  {
   "cell_type": "code",
   "execution_count": 3,
   "metadata": {
    "id": "3oD5ezAlsjkF"
   },
   "outputs": [],
   "source": [
    "def parse_scene(screenplay_text):\n",
    "\n",
    "    # Regular expression pattern\n",
    "    # a scene starts with INT. or EXT., ends before the next scene or the end of the screenplay\n",
    "    pattern = r'(INT\\..*?|EXT\\..*?)(?=(INT\\.|EXT\\.)|$)'\n",
    "\n",
    "    # Find all matches\n",
    "    segments = re.findall(pattern, screenplay_text, re.DOTALL)\n",
    "\n",
    "    # Extract the context text of each scene\n",
    "    scenes = [segment[0].strip() for segment in segments]\n",
    "\n",
    "    # return a list of scenes of the whole screenplay\n",
    "    return scenes"
   ]
  },
  {
   "cell_type": "code",
   "execution_count": 4,
   "metadata": {
    "id": "MI7-CusxsnCM"
   },
   "outputs": [],
   "source": [
    "def scene_features(scene):\n",
    "    category = 'INT' if 'INT.' in scene else 'EXT'\n",
    "\n",
    "    location = re.findall(r'EXT\\..*? --', scene) + re.findall(r'INT\\..*? --', scene)\n",
    "    if len(location) > 0:\n",
    "        location = location[0][4:-3]\n",
    "    else:\n",
    "        location = 'UNKNOWN'\n",
    "\n",
    "    time_of_day = re.findall(r'\\-\\-.[A-Z\\s]+\\n\\n', scene)\n",
    "    if len(time_of_day) > 0:\n",
    "        time_of_day = time_of_day[0][3:-2]\n",
    "    else:\n",
    "        time_of_day = 'UNKNOWN'\n",
    "\n",
    "    num_characters = len(set(re.findall(r'\\n\\n[A-Z]+\\n', scene)))\n",
    "    characters = []\n",
    "    names = re.findall(r'\\n\\n[A-Z]+\\n', scene)\n",
    "    for name in names:\n",
    "        name = name[2:-1]\n",
    "        if name not in characters:\n",
    "            characters.append(name)\n",
    "\n",
    "    return {\n",
    "        'category': category,\n",
    "        'location': location,\n",
    "        'time_of_day': time_of_day,\n",
    "        'num_characters': num_characters,\n",
    "        'characters': characters,\n",
    "        'text': scene\n",
    "    }"
   ]
  },
  {
   "cell_type": "code",
   "execution_count": 5,
   "metadata": {
    "id": "mj6nSx4msrS6"
   },
   "outputs": [],
   "source": [
    "scenes = parse_scene(screenplay_text)\n",
    "features = [scene_features(scene) for scene in scenes]\n",
    "df = pd.DataFrame(features)\n",
    "df['scene_id'] = df.index.to_series()\n",
    "df = df[['scene_id', 'category', 'location', 'time_of_day', 'num_characters', 'characters', 'text']]"
   ]
  },
  {
   "cell_type": "code",
   "execution_count": 6,
   "metadata": {
    "colab": {
     "base_uri": "https://localhost:8080/",
     "height": 206
    },
    "id": "882v31PIs_V1",
    "outputId": "d7ead928-5347-468e-a092-a39df6d1cf97"
   },
   "outputs": [
    {
     "data": {
      "text/html": [
       "<div>\n",
       "<style scoped>\n",
       "    .dataframe tbody tr th:only-of-type {\n",
       "        vertical-align: middle;\n",
       "    }\n",
       "\n",
       "    .dataframe tbody tr th {\n",
       "        vertical-align: top;\n",
       "    }\n",
       "\n",
       "    .dataframe thead th {\n",
       "        text-align: right;\n",
       "    }\n",
       "</style>\n",
       "<table border=\"1\" class=\"dataframe\">\n",
       "  <thead>\n",
       "    <tr style=\"text-align: right;\">\n",
       "      <th></th>\n",
       "      <th>scene_id</th>\n",
       "      <th>category</th>\n",
       "      <th>location</th>\n",
       "      <th>time_of_day</th>\n",
       "      <th>num_characters</th>\n",
       "      <th>characters</th>\n",
       "      <th>text</th>\n",
       "    </tr>\n",
       "  </thead>\n",
       "  <tbody>\n",
       "    <tr>\n",
       "      <th>0</th>\n",
       "      <td>0</td>\n",
       "      <td>INT</td>\n",
       "      <td>OFFICE, HIGH RISE</td>\n",
       "      <td>DAY</td>\n",
       "      <td>0</td>\n",
       "      <td>[]</td>\n",
       "      <td>INT. OFFICE, HIGH RISE -- DAY\\n\\nA man in a CL...</td>\n",
       "    </tr>\n",
       "    <tr>\n",
       "      <th>1</th>\n",
       "      <td>1</td>\n",
       "      <td>EXT</td>\n",
       "      <td>HIGH-RISE</td>\n",
       "      <td>DAY</td>\n",
       "      <td>0</td>\n",
       "      <td>[]</td>\n",
       "      <td>EXT. HIGH-RISE -- DAY\\n\\n...into space.  The m...</td>\n",
       "    </tr>\n",
       "    <tr>\n",
       "      <th>2</th>\n",
       "      <td>2</td>\n",
       "      <td>EXT</td>\n",
       "      <td>DOWNTOWN GOTHAM</td>\n",
       "      <td>DAY</td>\n",
       "      <td>2</td>\n",
       "      <td>[GRUMPY, CHUCKLES]</td>\n",
       "      <td>EXT. DOWNTOWN GOTHAM -- DAY\\n\\nA MAN on the co...</td>\n",
       "    </tr>\n",
       "    <tr>\n",
       "      <th>3</th>\n",
       "      <td>3</td>\n",
       "      <td>EXT</td>\n",
       "      <td>ROOFTOP, BANK</td>\n",
       "      <td>CONTINUOUS</td>\n",
       "      <td>2</td>\n",
       "      <td>[HAPPY, DOPEY]</td>\n",
       "      <td>EXT. ROOFTOP, BANK -- CONTINUOUS\\n\\nDopey PRIE...</td>\n",
       "    </tr>\n",
       "    <tr>\n",
       "      <th>4</th>\n",
       "      <td>4</td>\n",
       "      <td>EXT</td>\n",
       "      <td>BANK</td>\n",
       "      <td>CONTINUOUS</td>\n",
       "      <td>0</td>\n",
       "      <td>[]</td>\n",
       "      <td>EXT. BANK -- CONTINUOUS\\n\\nGrumpy, Chuckles an...</td>\n",
       "    </tr>\n",
       "  </tbody>\n",
       "</table>\n",
       "</div>"
      ],
      "text/plain": [
       "   scene_id category            location time_of_day  num_characters  \\\n",
       "0         0      INT   OFFICE, HIGH RISE         DAY               0   \n",
       "1         1      EXT           HIGH-RISE         DAY               0   \n",
       "2         2      EXT     DOWNTOWN GOTHAM         DAY               2   \n",
       "3         3      EXT       ROOFTOP, BANK  CONTINUOUS               2   \n",
       "4         4      EXT                BANK  CONTINUOUS               0   \n",
       "\n",
       "           characters                                               text  \n",
       "0                  []  INT. OFFICE, HIGH RISE -- DAY\\n\\nA man in a CL...  \n",
       "1                  []  EXT. HIGH-RISE -- DAY\\n\\n...into space.  The m...  \n",
       "2  [GRUMPY, CHUCKLES]  EXT. DOWNTOWN GOTHAM -- DAY\\n\\nA MAN on the co...  \n",
       "3      [HAPPY, DOPEY]  EXT. ROOFTOP, BANK -- CONTINUOUS\\n\\nDopey PRIE...  \n",
       "4                  []  EXT. BANK -- CONTINUOUS\\n\\nGrumpy, Chuckles an...  "
      ]
     },
     "execution_count": 6,
     "metadata": {},
     "output_type": "execute_result"
    }
   ],
   "source": [
    "df.head()"
   ]
  },
  {
   "cell_type": "code",
   "execution_count": 7,
   "metadata": {},
   "outputs": [],
   "source": [
    "df.to_csv('scenes.csv', index=False)"
   ]
  },
  {
   "cell_type": "markdown",
   "metadata": {},
   "source": [
    "#### Exploratory Analysis"
   ]
  },
  {
   "cell_type": "code",
   "execution_count": 8,
   "metadata": {},
   "outputs": [
    {
     "name": "stdout",
     "output_type": "stream",
     "text": [
      "389\n"
     ]
    }
   ],
   "source": [
    "# how many scenes\n",
    "print(len(df))"
   ]
  },
  {
   "cell_type": "code",
   "execution_count": 9,
   "metadata": {},
   "outputs": [
    {
     "data": {
      "image/png": "[encoded data removed]",
      "text/plain": [
       "<Figure size 432x288 with 1 Axes>"
      ]
     },
     "metadata": {
      "needs_background": "light"
     },
     "output_type": "display_data"
    }
   ],
   "source": [
    "# distribution of category\n",
    "df.groupby('category').size().plot(kind='barh', color=sns.palettes.mpl_palette('Dark2'))\n",
    "plt.gca().spines[['top', 'right',]].set_visible(False)"
   ]
  },
  {
   "cell_type": "code",
   "execution_count": 10,
   "metadata": {
    "colab": {
     "base_uri": "https://localhost:8080/",
     "height": 595
    },
    "id": "hfbAJUylyjk1",
    "outputId": "872165d8-2d38-4b43-82a0-6cb09b20f214"
   },
   "outputs": [
    {
     "data": {
      "text/plain": [
       "<Figure size 864x432 with 0 Axes>"
      ]
     },
     "metadata": {},
     "output_type": "display_data"
    },
    {
     "data": {
      "image/png": "[encoded data removed]",
      "text/plain": [
       "<Figure size 432x288 with 1 Axes>"
      ]
     },
     "metadata": {
      "needs_background": "light"
     },
     "output_type": "display_data"
    }
   ],
   "source": [
    "# Most Frequent Times of Day by Scene Category\n",
    "time_counts = df.groupby(['time_of_day', 'category'])['scene_id'].count().unstack().sort_values('INT', ascending=False)\n",
    "plt.figure(figsize=(12, 6))\n",
    "time_counts.plot(kind='bar', stacked=True)\n",
    "plt.xlabel('Time of Day')\n",
    "plt.ylabel('Number of Scenes')\n",
    "_ = plt.title('Most Frequent Times of Day by Scene Category')"
   ]
  },
  {
   "cell_type": "markdown",
   "metadata": {},
   "source": [
    "The CONTINUOUS scene usually follows the previous DAY/NIGHT scene on the screenplay. It is not necessary to schedule them together, depending other factors of the scenes."
   ]
  },
  {
   "cell_type": "code",
   "execution_count": 11,
   "metadata": {
    "colab": {
     "base_uri": "https://localhost:8080/",
     "height": 718
    },
    "id": "YjDVRdWJvvCR",
    "outputId": "9aa43767-800d-45ae-ab03-c67e07337248"
   },
   "outputs": [
    {
     "data": {
      "image/png": "[encoded data removed]",
      "text/plain": [
       "<Figure size 720x576 with 1 Axes>"
      ]
     },
     "metadata": {
      "needs_background": "light"
     },
     "output_type": "display_data"
    }
   ],
   "source": [
    "# Distribution of Scenes by Location\n",
    "\n",
    "# Count the occurrences of each location\n",
    "location_counts = df['location'].value_counts().head(10).sort_values()\n",
    "\n",
    "# Create a horizontal bar chart\n",
    "plt.figure(figsize=(10, 8))\n",
    "location_counts.plot(kind='barh')\n",
    "plt.xlabel('Number of Scenes')\n",
    "plt.ylabel('Location')\n",
    "_ = plt.title('Distribution of Scenes by Location (Top 10)')"
   ]
  },
  {
   "cell_type": "markdown",
   "metadata": {},
   "source": [
    "It seems like the first place 'PENTHOUSE, PREWITT BUILDING' and the third place 'WAYNE PENTHOUSE' have overlap. Maybe we can merge some of them together by doing some data mining in the future.\n",
    "\n",
    "From above plots, it can found that most scenes are indoor, more specifically the penthouse. This information can be helpful for scheduling later."
   ]
  },
  {
   "cell_type": "code",
   "execution_count": 12,
   "metadata": {
    "colab": {
     "base_uri": "https://localhost:8080/",
     "height": 564
    },
    "id": "2eiVOvNRuQ9b",
    "outputId": "43eac8db-798a-4ba5-b1c2-2e8112950511"
   },
   "outputs": [
    {
     "data": {
      "image/png": "[encoded data removed]",
      "text/plain": [
       "<Figure size 720x432 with 1 Axes>"
      ]
     },
     "metadata": {
      "needs_background": "light"
     },
     "output_type": "display_data"
    }
   ],
   "source": [
    "# Number of Characters vs Scene Number\n",
    "plt.figure(figsize=(10, 6))\n",
    "plt.scatter(df['scene_id'], df['num_characters'])\n",
    "plt.xlabel('Scene ID')\n",
    "plt.ylabel('Number of Characters')\n",
    "_ = plt.title('Number of Characters vs Scene ID')"
   ]
  },
  {
   "cell_type": "markdown",
   "metadata": {},
   "source": [
    "Again, most of scenes has no chacaters, which is not correct. Another model is implemented to infer the number of characters."
   ]
  },
  {
   "cell_type": "code",
   "execution_count": null,
   "metadata": {},
   "outputs": [],
   "source": []
  }
 ],
 "metadata": {
  "colab": {
   "provenance": []
  },
  "kernelspec": {
   "display_name": "Python 3 (ipykernel)",
   "language": "python",
   "name": "python3"
  },
  "language_info": {
   "codemirror_mode": {
    "name": "ipython",
    "version": 3
   },
   "file_extension": ".py",
   "mimetype": "text/x-python",
   "name": "python",
   "nbconvert_exporter": "python",
   "pygments_lexer": "ipython3",
   "version": "3.9.7"
  }
 },
 "nbformat": 4,
 "nbformat_minor": 4
}
