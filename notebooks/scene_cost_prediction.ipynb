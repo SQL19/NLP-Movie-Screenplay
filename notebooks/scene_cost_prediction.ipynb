{
 "cells": [
  {
   "cell_type": "markdown",
   "id": "b512ee77-d8c0-43c7-9398-0588f16c1893",
   "metadata": {},
   "source": [
    "This notebook is showing an example of predicting the expense of a movie scene. The cost facors used here are made up for simplicity."
   ]
  },
  {
   "cell_type": "code",
   "execution_count": 1,
   "id": "81087e63-c61a-443c-a3a9-9b9f31660361",
   "metadata": {},
   "outputs": [],
   "source": [
    "import pandas as pd\n",
    "\n",
    "df = pd.read_csv('scenes_metadata.csv')"
   ]
  },
  {
   "cell_type": "code",
   "execution_count": 2,
   "id": "5ab2bda8-d52d-4dd8-ba8e-5198e23fc226",
   "metadata": {},
   "outputs": [],
   "source": [
    "# Cost factors \n",
    "# cost per day\n",
    "cost_factors = {\n",
    "    # simpilfied loaction cost here, different places varies a lot, such as penthouse vs park\n",
    "    \"location\": {\"INT\":300, \"EXT\":0}, \n",
    "    \"actor\": 300, \n",
    "    \"prop\": {\"car\":200, \"mask\":1, \"weapon\":500},\n",
    "    \"crew\": 200, \n",
    "    \"equipment\": {\"camera\": 150},\n",
    "}"
   ]
  },
  {
   "cell_type": "code",
   "execution_count": 3,
   "id": "de797435-1ae1-438e-a6e7-32533f39889a",
   "metadata": {},
   "outputs": [],
   "source": [
    "def extract_resources(scene):\n",
    "    \n",
    "    resources = {\n",
    "        \"location\": [],\n",
    "        \"actor\": 0,\n",
    "        \"prop\": [],\n",
    "        \"crew\": 0,\n",
    "        \"equipment\": [],\n",
    "    }\n",
    "    \n",
    "    resources[\"location\"] = scene['category']\n",
    "    resources[\"actor\"] = scene['num_person']\n",
    "    resources[\"prop\"] = scene['prop'].split(',')\n",
    "\n",
    "    # Assuming fixed crew and equipment for simplicity\n",
    "    resources[\"crew\"] = 5\n",
    "    resources[\"equipment\"].append(\"camera\")\n",
    "    \n",
    "    return resources"
   ]
  },
  {
   "cell_type": "code",
   "execution_count": 4,
   "id": "7cc158d9-2215-4578-ba2a-46aa23f37b81",
   "metadata": {},
   "outputs": [],
   "source": [
    "def calculate_cost(scene_resources, cost_factors, days):\n",
    "    total_cost = 0\n",
    "    \n",
    "    \n",
    "    total_cost += days * cost_factors[\"location\"].get(scene_resources[\"location\"])\n",
    "    total_cost += days * scene_resources[\"actor\"] * cost_factors[\"actor\"]\n",
    "  \n",
    "    for item in cost_factors[\"prop\"]:\n",
    "        for prop in scene_resources[\"prop\"]:\n",
    "            if item.lower() in prop.lower():\n",
    "                total_cost += days * cost_factors[\"prop\"].get(item)\n",
    "   \n",
    "    total_cost += days * scene_resources[\"crew\"] * cost_factors[\"crew\"]\n",
    "    for equipment in scene_resources[\"equipment\"]:\n",
    "        total_cost += days * cost_factors[\"equipment\"].get(equipment)\n",
    "\n",
    "    return total_cost"
   ]
  },
  {
   "cell_type": "code",
   "execution_count": 5,
   "id": "5df9233d-acb4-4b04-af75-e45cd6d61289",
   "metadata": {},
   "outputs": [
    {
     "name": "stdout",
     "output_type": "stream",
     "text": [
      "Estimated cost for the scene: $1426.0\n"
     ]
    }
   ],
   "source": [
    "# Example\n",
    "\n",
    "# Extract resources\n",
    "scene_resources = extract_resources(df.loc[2])\n",
    "\n",
    "# Assume the scene takes 0.5 day\n",
    "days = 0.5\n",
    "\n",
    "# Calculate cost for the scene\n",
    "scene_cost = calculate_cost(scene_resources, cost_factors, days)\n",
    "\n",
    "print(f\"Estimated cost for the scene: ${scene_cost}\")"
   ]
  },
  {
   "cell_type": "code",
   "execution_count": null,
   "id": "25201b88-d9b6-47b2-928c-b9b45d999029",
   "metadata": {},
   "outputs": [],
   "source": []
  }
 ],
 "metadata": {
  "kernelspec": {
   "display_name": "Python 3 (ipykernel)",
   "language": "python",
   "name": "python3"
  },
  "language_info": {
   "codemirror_mode": {
    "name": "ipython",
    "version": 3
   },
   "file_extension": ".py",
   "mimetype": "text/x-python",
   "name": "python",
   "nbconvert_exporter": "python",
   "pygments_lexer": "ipython3",
   "version": "3.9.7"
  }
 },
 "nbformat": 4,
 "nbformat_minor": 5
}
