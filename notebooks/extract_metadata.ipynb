{
 "cells": [
  {
   "cell_type": "markdown",
   "metadata": {
    "id": "2gNLM0j1A-F6"
   },
   "source": [
    "This Notebook is to extract potential props and actors in each scene."
   ]
  },
  {
   "cell_type": "markdown",
   "metadata": {
    "id": "p9m52Qsd6lDq"
   },
   "source": [
    "#### Get Prop in Scene Text"
   ]
  },
  {
   "cell_type": "markdown",
   "metadata": {
    "id": "3X2KlrjKnvAn"
   },
   "source": [
    "##### Fine Tune Classification Model"
   ]
  },
  {
   "cell_type": "code",
   "execution_count": null,
   "metadata": {
    "id": "CSDP2GWznLNr"
   },
   "outputs": [],
   "source": [
    "from datasets import Dataset, DatasetDict\n",
    "from transformers import BertTokenizerFast, BertForSequenceClassification, TrainingArguments, Trainer\n",
    "import pandas as pd\n",
    "import torch\n",
    "\n",
    "# Manually labeled prop data\n",
    "# 1: prop, 0: not a prop\n",
    "df = pd.read_csv(\"prop_data.csv\")\n",
    "\n",
    "# Convert DataFrame to Dataset\n",
    "dataset = Dataset.from_pandas(df)\n",
    "\n",
    "# Split the dataset into training and evaluation sets\n",
    "train_test_split = dataset.train_test_split(test_size=0.2)\n",
    "train_dataset = train_test_split['train']\n",
    "eval_dataset = train_test_split['test']\n",
    "\n",
    "# Load the tokenizer\n",
    "tokenizer = BertTokenizerFast.from_pretrained('bert-base-uncased')\n",
    "\n",
    "# Tokenize the texts\n",
    "def tokenize_function(examples):\n",
    "    return tokenizer(examples['object'], truncation=True, padding='max_length', max_length=32)\n",
    "\n",
    "tokenized_train_dataset = train_dataset.map(tokenize_function, batched=True)\n",
    "tokenized_eval_dataset = eval_dataset.map(tokenize_function, batched=True)\n",
    "\n",
    "# Remove the text column and format the datasets\n",
    "tokenized_train_dataset = tokenized_train_dataset.remove_columns(['object'])\n",
    "tokenized_train_dataset = tokenized_train_dataset.with_format(\"torch\")\n",
    "tokenized_eval_dataset = tokenized_eval_dataset.remove_columns(['object'])\n",
    "tokenized_eval_dataset = tokenized_eval_dataset.with_format(\"torch\")\n",
    "\n",
    "# Load pre-trained model\n",
    "model = BertForSequenceClassification.from_pretrained('bert-base-uncased', num_labels=2)\n",
    "\n",
    "# Define training arguments\n",
    "training_args = TrainingArguments(\n",
    "    output_dir='./results',\n",
    "    evaluation_strategy=\"epoch\",\n",
    "    learning_rate=2e-5,\n",
    "    per_device_train_batch_size=8,\n",
    "    per_device_eval_batch_size=8,\n",
    "    num_train_epochs=3,\n",
    "    weight_decay=0.01,\n",
    ")\n",
    "\n",
    "# Create Trainer instance\n",
    "trainer = Trainer(\n",
    "    model=model,\n",
    "    args=training_args,\n",
    "    train_dataset=tokenized_train_dataset,\n",
    "    eval_dataset=tokenized_eval_dataset,\n",
    ")\n",
    "\n",
    "# Train the model\n",
    "trainer.train()\n",
    "\n",
    "# Save the model and tokenizer\n",
    "trainer.save_model(\"./fine_tuned_classification_model\")\n",
    "tokenizer.save_pretrained(\"./fine_tuned_classification_model\")"
   ]
  },
  {
   "cell_type": "markdown",
   "metadata": {
    "id": "QckzhLWq6ZhG"
   },
   "source": [
    "##### Load Scenes Data"
   ]
  },
  {
   "cell_type": "code",
   "execution_count": 2,
   "metadata": {
    "id": "mMBLaiIL6jYp"
   },
   "outputs": [],
   "source": [
    "import pandas as pd\n",
    "df = pd.read_csv(\"scenes.csv\")"
   ]
  },
  {
   "cell_type": "markdown",
   "metadata": {
    "id": "UWyauxVX30IZ"
   },
   "source": [
    "##### Get Props from Objects Identified by Pre-trained NER model in Spacy"
   ]
  },
  {
   "cell_type": "code",
   "execution_count": 3,
   "metadata": {
    "id": "rKfwrQJ9lzta"
   },
   "outputs": [],
   "source": [
    "import spacy\n",
    "from spacy import displacy\n",
    "\n",
    "# Load the pre-trained model\n",
    "nlp = spacy.load(\"en_core_web_sm\")"
   ]
  },
  {
   "cell_type": "code",
   "execution_count": null,
   "metadata": {
    "id": "21R3yC0v591P"
   },
   "outputs": [],
   "source": [
    "df['prop'] = ''\n",
    "df['num_prop'] = 0\n",
    "\n",
    "for i in range(len(df)):\n",
    "    text = df.loc[i, 'text']\n",
    "    doc = nlp(text)\n",
    "    objects = []\n",
    "    for chunk in doc.noun_chunks:\n",
    "        objects.append(chunk.text)\n",
    "\n",
    "    # Tokenize the new objects\n",
    "    objects_encodings = tokenizer(objects, truncation=True, padding='max_length', max_length=32, return_tensors=\"pt\")\n",
    "\n",
    "    # Get predictions\n",
    "    with torch.no_grad():\n",
    "        outputs = model(**objects_encodings)\n",
    "        predictions = torch.argmax(outputs.logits, dim=-1)\n",
    "\n",
    "    # Convert predictions to labels\n",
    "    predicted_labels = predictions.numpy()\n",
    "\n",
    "    for obj, label in zip(objects, predicted_labels):\n",
    "        if label == 1:\n",
    "            df.loc[i, 'prop'] += (obj + ',')\n",
    "            df.loc[i, 'num_prop'] += 1"
   ]
  },
  {
   "cell_type": "markdown",
   "metadata": {
    "id": "3wig_r3d_yWy"
   },
   "source": [
    "#### Get Person in Scene Text"
   ]
  },
  {
   "cell_type": "code",
   "execution_count": null,
   "metadata": {
    "id": "B--lHIh4_IIY"
   },
   "outputs": [],
   "source": [
    "# NER model in Flair\n",
    "from flair.data import Sentence\n",
    "from flair.models import SequenceTagger\n",
    "\n",
    "# load tagger\n",
    "tagger = SequenceTagger.load(\"flair/ner-english-ontonotes-large\")"
   ]
  },
  {
   "cell_type": "code",
   "execution_count": null,
   "metadata": {
    "id": "c8JTCYgg_0Hf"
   },
   "outputs": [],
   "source": [
    "df['person'] = ''\n",
    "df['num_person'] = 0\n",
    "\n",
    "for i in range(len(df)):\n",
    "    sentence = Sentence(df.loc[i, 'text'])\n",
    "    tagger.predict(sentence)\n",
    "    person = []\n",
    "    names = ''\n",
    "    for entity in sentence.get_spans('ner'):\n",
    "        if entity.tag == \"PERSON\":\n",
    "            name = entity.text.upper()\n",
    "            if name not in person:\n",
    "                person.append(name)\n",
    "                names += (name + ',')\n",
    "    df.loc[i, 'person'] = names\n",
    "    df.loc[i, 'num_person'] = len(person)"
   ]
  },
  {
   "cell_type": "markdown",
   "metadata": {
    "id": "k6Xv_ZhHCa9H"
   },
   "source": [
    "#### Output"
   ]
  },
  {
   "cell_type": "code",
   "execution_count": null,
   "metadata": {
    "id": "-0DxonFNCUBN"
   },
   "outputs": [],
   "source": [
    "df.to_csv('scenes_metadata.csv', index=False)"
   ]
  },
  {
   "cell_type": "markdown",
   "metadata": {
    "id": "gMYVLk_3_Hts"
   },
   "source": []
  }
 ],
 "metadata": {
  "colab": {
   "provenance": []
  },
  "kernelspec": {
   "display_name": "Python 3 (ipykernel)",
   "language": "python",
   "name": "python3"
  },
  "language_info": {
   "codemirror_mode": {
    "name": "ipython",
    "version": 3
   },
   "file_extension": ".py",
   "mimetype": "text/x-python",
   "name": "python",
   "nbconvert_exporter": "python",
   "pygments_lexer": "ipython3",
   "version": "3.9.7"
  }
 },
 "nbformat": 4,
 "nbformat_minor": 4
}
